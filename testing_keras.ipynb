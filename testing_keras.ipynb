{
 "cells": [
  {
   "cell_type": "markdown",
   "metadata": {},
   "source": [
    "Make sure you import dnn_p kernal"
   ]
  },
  {
   "cell_type": "code",
   "execution_count": 94,
   "metadata": {},
   "outputs": [],
   "source": [
    "# import relevant packages\n",
    "import pandas as pd \n",
    "from keras.models import Sequential\n",
    "from keras.layers import Dense\n",
    "from keras.wrappers.scikit_learn import KerasClassifier\n",
    "from sklearn.model_selection import cross_val_score\n",
    "from sklearn.preprocessing import LabelEncoder\n",
    "from sklearn.model_selection import StratifiedKFold\n",
    "from sklearn.preprocessing import StandardScaler\n",
    "from sklearn.pipeline import Pipeline\n",
    "from sklearn.model_selection import train_test_split\n",
    "from numpy import asarray\n",
    "from numpy import savetxt\n",
    "# make sure conda env is active \"dnn_p\""
   ]
  },
  {
   "cell_type": "code",
   "execution_count": 95,
   "metadata": {},
   "outputs": [],
   "source": [
    "dataset = pd.read_csv('data_for_keras.csv')"
   ]
  },
  {
   "cell_type": "code",
   "execution_count": 96,
   "metadata": {},
   "outputs": [
    {
     "data": {
      "text/html": [
       "<div>\n",
       "<style scoped>\n",
       "    .dataframe tbody tr th:only-of-type {\n",
       "        vertical-align: middle;\n",
       "    }\n",
       "\n",
       "    .dataframe tbody tr th {\n",
       "        vertical-align: top;\n",
       "    }\n",
       "\n",
       "    .dataframe thead th {\n",
       "        text-align: right;\n",
       "    }\n",
       "</style>\n",
       "<table border=\"1\" class=\"dataframe\">\n",
       "  <thead>\n",
       "    <tr style=\"text-align: right;\">\n",
       "      <th></th>\n",
       "      <th>V1</th>\n",
       "      <th>V2</th>\n",
       "      <th>V3</th>\n",
       "      <th>V4</th>\n",
       "      <th>V5</th>\n",
       "      <th>V6</th>\n",
       "      <th>V7</th>\n",
       "      <th>V8</th>\n",
       "      <th>V9</th>\n",
       "      <th>V10</th>\n",
       "      <th>T</th>\n",
       "      <th>Y</th>\n",
       "      <th>indeff</th>\n",
       "    </tr>\n",
       "  </thead>\n",
       "  <tbody>\n",
       "    <tr>\n",
       "      <th>0</th>\n",
       "      <td>1</td>\n",
       "      <td>4</td>\n",
       "      <td>1</td>\n",
       "      <td>1</td>\n",
       "      <td>2</td>\n",
       "      <td>3.905871</td>\n",
       "      <td>5.366169</td>\n",
       "      <td>11.169097</td>\n",
       "      <td>2.608725</td>\n",
       "      <td>8.531244</td>\n",
       "      <td>1</td>\n",
       "      <td>1.462524</td>\n",
       "      <td>-2.27</td>\n",
       "    </tr>\n",
       "    <tr>\n",
       "      <th>1</th>\n",
       "      <td>0</td>\n",
       "      <td>2</td>\n",
       "      <td>0</td>\n",
       "      <td>1</td>\n",
       "      <td>0</td>\n",
       "      <td>3.386089</td>\n",
       "      <td>5.789691</td>\n",
       "      <td>12.005449</td>\n",
       "      <td>2.472912</td>\n",
       "      <td>9.274342</td>\n",
       "      <td>1</td>\n",
       "      <td>4.575344</td>\n",
       "      <td>-1.12</td>\n",
       "    </tr>\n",
       "    <tr>\n",
       "      <th>2</th>\n",
       "      <td>1</td>\n",
       "      <td>4</td>\n",
       "      <td>1</td>\n",
       "      <td>0</td>\n",
       "      <td>3</td>\n",
       "      <td>3.806550</td>\n",
       "      <td>4.381729</td>\n",
       "      <td>11.992399</td>\n",
       "      <td>3.303718</td>\n",
       "      <td>7.838459</td>\n",
       "      <td>1</td>\n",
       "      <td>2.134896</td>\n",
       "      <td>-2.07</td>\n",
       "    </tr>\n",
       "    <tr>\n",
       "      <th>3</th>\n",
       "      <td>1</td>\n",
       "      <td>3</td>\n",
       "      <td>1</td>\n",
       "      <td>0</td>\n",
       "      <td>0</td>\n",
       "      <td>1.419517</td>\n",
       "      <td>2.474482</td>\n",
       "      <td>11.914189</td>\n",
       "      <td>1.910837</td>\n",
       "      <td>8.392832</td>\n",
       "      <td>0</td>\n",
       "      <td>4.918152</td>\n",
       "      <td>-1.71</td>\n",
       "    </tr>\n",
       "    <tr>\n",
       "      <th>4</th>\n",
       "      <td>1</td>\n",
       "      <td>9</td>\n",
       "      <td>1</td>\n",
       "      <td>2</td>\n",
       "      <td>3</td>\n",
       "      <td>4.180416</td>\n",
       "      <td>3.888405</td>\n",
       "      <td>12.381729</td>\n",
       "      <td>3.812575</td>\n",
       "      <td>6.963295</td>\n",
       "      <td>0</td>\n",
       "      <td>1.957095</td>\n",
       "      <td>-4.27</td>\n",
       "    </tr>\n",
       "  </tbody>\n",
       "</table>\n",
       "</div>"
      ],
      "text/plain": [
       "   V1  V2  V3  V4  V5        V6        V7         V8        V9       V10  T  \\\n",
       "0   1   4   1   1   2  3.905871  5.366169  11.169097  2.608725  8.531244  1   \n",
       "1   0   2   0   1   0  3.386089  5.789691  12.005449  2.472912  9.274342  1   \n",
       "2   1   4   1   0   3  3.806550  4.381729  11.992399  3.303718  7.838459  1   \n",
       "3   1   3   1   0   0  1.419517  2.474482  11.914189  1.910837  8.392832  0   \n",
       "4   1   9   1   2   3  4.180416  3.888405  12.381729  3.812575  6.963295  0   \n",
       "\n",
       "          Y  indeff  \n",
       "0  1.462524   -2.27  \n",
       "1  4.575344   -1.12  \n",
       "2  2.134896   -2.07  \n",
       "3  4.918152   -1.71  \n",
       "4  1.957095   -4.27  "
      ]
     },
     "execution_count": 96,
     "metadata": {},
     "output_type": "execute_result"
    }
   ],
   "source": [
    "dataset.head()"
   ]
  },
  {
   "cell_type": "code",
   "execution_count": 97,
   "metadata": {},
   "outputs": [],
   "source": [
    "df = dataset.to_numpy()"
   ]
  },
  {
   "cell_type": "code",
   "execution_count": 98,
   "metadata": {},
   "outputs": [
    {
     "name": "stdout",
     "output_type": "stream",
     "text": [
      "(500, 13)\n"
     ]
    }
   ],
   "source": [
    "print(df.shape)"
   ]
  },
  {
   "cell_type": "code",
   "execution_count": 99,
   "metadata": {},
   "outputs": [
    {
     "name": "stdout",
     "output_type": "stream",
     "text": [
      "(500, 10)\n"
     ]
    }
   ],
   "source": [
    "# split into input and output\n",
    "X = df[:,0:10]\n",
    "y = df[:,10]\n",
    "print(x.shape)"
   ]
  },
  {
   "cell_type": "code",
   "execution_count": 100,
   "metadata": {},
   "outputs": [],
   "source": [
    "X_train, X_test, y_train, y_test = train_test_split(X, y, test_size=0.3, random_state=0)"
   ]
  },
  {
   "cell_type": "code",
   "execution_count": 101,
   "metadata": {},
   "outputs": [],
   "source": [
    "# define the keras model\n",
    "model = Sequential()\n",
    "model.add(Dense(20, input_dim=10, activation='relu'))\n",
    "model.add(Dense(20, activation='relu'))\n",
    "model.add(Dense(1, activation='sigmoid'))"
   ]
  },
  {
   "cell_type": "code",
   "execution_count": 102,
   "metadata": {},
   "outputs": [],
   "source": [
    "# compile the keras model\n",
    "model.compile(loss='binary_crossentropy', \n",
    "              optimizer='adam', \n",
    "              metrics=['accuracy'])"
   ]
  },
  {
   "cell_type": "code",
   "execution_count": 103,
   "metadata": {},
   "outputs": [
    {
     "name": "stdout",
     "output_type": "stream",
     "text": [
      "Epoch 1/50\n",
      "350/350 [==============================] - 0s 518us/step - loss: 0.5642 - accuracy: 0.7086\n",
      "Epoch 2/50\n",
      "350/350 [==============================] - 0s 579us/step - loss: 0.4036 - accuracy: 0.7971\n",
      "Epoch 3/50\n",
      "350/350 [==============================] - 0s 510us/step - loss: 0.3670 - accuracy: 0.8371\n",
      "Epoch 4/50\n",
      "350/350 [==============================] - 0s 594us/step - loss: 0.3329 - accuracy: 0.8486\n",
      "Epoch 5/50\n",
      "350/350 [==============================] - 0s 642us/step - loss: 0.3298 - accuracy: 0.8543\n",
      "Epoch 6/50\n",
      "350/350 [==============================] - 0s 516us/step - loss: 0.2884 - accuracy: 0.8800\n",
      "Epoch 7/50\n",
      "350/350 [==============================] - 0s 530us/step - loss: 0.2859 - accuracy: 0.8743\n",
      "Epoch 8/50\n",
      "350/350 [==============================] - 0s 534us/step - loss: 0.2646 - accuracy: 0.8771\n",
      "Epoch 9/50\n",
      "350/350 [==============================] - 0s 604us/step - loss: 0.2485 - accuracy: 0.8971\n",
      "Epoch 10/50\n",
      "350/350 [==============================] - 0s 586us/step - loss: 0.2429 - accuracy: 0.8914\n",
      "Epoch 11/50\n",
      "350/350 [==============================] - 0s 505us/step - loss: 0.2355 - accuracy: 0.8800\n",
      "Epoch 12/50\n",
      "350/350 [==============================] - 0s 584us/step - loss: 0.2114 - accuracy: 0.8971\n",
      "Epoch 13/50\n",
      "350/350 [==============================] - 0s 521us/step - loss: 0.2088 - accuracy: 0.9029\n",
      "Epoch 14/50\n",
      "350/350 [==============================] - 0s 533us/step - loss: 0.2123 - accuracy: 0.9000\n",
      "Epoch 15/50\n",
      "350/350 [==============================] - 0s 621us/step - loss: 0.1910 - accuracy: 0.9114\n",
      "Epoch 16/50\n",
      "350/350 [==============================] - 0s 513us/step - loss: 0.2036 - accuracy: 0.9057\n",
      "Epoch 17/50\n",
      "350/350 [==============================] - 0s 524us/step - loss: 0.1960 - accuracy: 0.9171\n",
      "Epoch 18/50\n",
      "350/350 [==============================] - 0s 511us/step - loss: 0.1924 - accuracy: 0.9086\n",
      "Epoch 19/50\n",
      "350/350 [==============================] - 0s 527us/step - loss: 0.1932 - accuracy: 0.9229\n",
      "Epoch 20/50\n",
      "350/350 [==============================] - 0s 568us/step - loss: 0.1791 - accuracy: 0.9029\n",
      "Epoch 21/50\n",
      "350/350 [==============================] - 0s 519us/step - loss: 0.1827 - accuracy: 0.9114\n",
      "Epoch 22/50\n",
      "350/350 [==============================] - 0s 561us/step - loss: 0.1859 - accuracy: 0.9171\n",
      "Epoch 23/50\n",
      "350/350 [==============================] - 0s 545us/step - loss: 0.1745 - accuracy: 0.9257\n",
      "Epoch 24/50\n",
      "350/350 [==============================] - 0s 623us/step - loss: 0.1711 - accuracy: 0.9286\n",
      "Epoch 25/50\n",
      "350/350 [==============================] - 0s 606us/step - loss: 0.1733 - accuracy: 0.9086\n",
      "Epoch 26/50\n",
      "350/350 [==============================] - 0s 543us/step - loss: 0.1805 - accuracy: 0.9200\n",
      "Epoch 27/50\n",
      "350/350 [==============================] - 0s 560us/step - loss: 0.1755 - accuracy: 0.9171\n",
      "Epoch 28/50\n",
      "350/350 [==============================] - 0s 542us/step - loss: 0.1774 - accuracy: 0.9286\n",
      "Epoch 29/50\n",
      "350/350 [==============================] - 0s 539us/step - loss: 0.1609 - accuracy: 0.9229\n",
      "Epoch 30/50\n",
      "350/350 [==============================] - 0s 543us/step - loss: 0.1758 - accuracy: 0.9143\n",
      "Epoch 31/50\n",
      "350/350 [==============================] - 0s 545us/step - loss: 0.1532 - accuracy: 0.9257\n",
      "Epoch 32/50\n",
      "350/350 [==============================] - 0s 565us/step - loss: 0.1766 - accuracy: 0.9171\n",
      "Epoch 33/50\n",
      "350/350 [==============================] - 0s 550us/step - loss: 0.1536 - accuracy: 0.9343\n",
      "Epoch 34/50\n",
      "350/350 [==============================] - 0s 524us/step - loss: 0.1540 - accuracy: 0.9343\n",
      "Epoch 35/50\n",
      "350/350 [==============================] - 0s 624us/step - loss: 0.1764 - accuracy: 0.9229\n",
      "Epoch 36/50\n",
      "350/350 [==============================] - 0s 552us/step - loss: 0.1661 - accuracy: 0.9029\n",
      "Epoch 37/50\n",
      "350/350 [==============================] - 0s 525us/step - loss: 0.1730 - accuracy: 0.9200\n",
      "Epoch 38/50\n",
      "350/350 [==============================] - 0s 512us/step - loss: 0.1512 - accuracy: 0.9229\n",
      "Epoch 39/50\n",
      "350/350 [==============================] - 0s 513us/step - loss: 0.1484 - accuracy: 0.9457\n",
      "Epoch 40/50\n",
      "350/350 [==============================] - 0s 529us/step - loss: 0.1550 - accuracy: 0.9343\n",
      "Epoch 41/50\n",
      "350/350 [==============================] - 0s 546us/step - loss: 0.1595 - accuracy: 0.9400\n",
      "Epoch 42/50\n",
      "350/350 [==============================] - 0s 536us/step - loss: 0.1386 - accuracy: 0.9400\n",
      "Epoch 43/50\n",
      "350/350 [==============================] - 0s 585us/step - loss: 0.1615 - accuracy: 0.9200\n",
      "Epoch 44/50\n",
      "350/350 [==============================] - 0s 544us/step - loss: 0.1527 - accuracy: 0.9314\n",
      "Epoch 45/50\n",
      "350/350 [==============================] - 0s 536us/step - loss: 0.1652 - accuracy: 0.9257\n",
      "Epoch 46/50\n",
      "350/350 [==============================] - 0s 621us/step - loss: 0.1522 - accuracy: 0.9257\n",
      "Epoch 47/50\n",
      "350/350 [==============================] - 0s 603us/step - loss: 0.1437 - accuracy: 0.9343\n",
      "Epoch 48/50\n",
      "350/350 [==============================] - 0s 604us/step - loss: 0.1456 - accuracy: 0.9229\n",
      "Epoch 49/50\n",
      "350/350 [==============================] - 0s 526us/step - loss: 0.1594 - accuracy: 0.9200\n",
      "Epoch 50/50\n",
      "350/350 [==============================] - 0s 568us/step - loss: 0.1531 - accuracy: 0.9314\n"
     ]
    },
    {
     "data": {
      "text/plain": [
       "<tensorflow.python.keras.callbacks.History at 0x7fb32a410af0>"
      ]
     },
     "execution_count": 103,
     "metadata": {},
     "output_type": "execute_result"
    }
   ],
   "source": [
    "# fit the keras model on the dataset\n",
    "model.fit(X_train, y_train, epochs=50, batch_size=1)"
   ]
  },
  {
   "cell_type": "code",
   "execution_count": 104,
   "metadata": {},
   "outputs": [
    {
     "name": "stdout",
     "output_type": "stream",
     "text": [
      "5/5 [==============================] - 0s 731us/step - loss: 0.2229 - accuracy: 0.9067\n",
      "Test accuracy: 0.9066666960716248\n"
     ]
    }
   ],
   "source": [
    "# evaluate the keras model\n",
    "test_loss, test_acc = model.evaluate(X_test, y_test)\n",
    "print('Test accuracy:', test_acc)"
   ]
  },
  {
   "cell_type": "code",
   "execution_count": 105,
   "metadata": {},
   "outputs": [
    {
     "name": "stdout",
     "output_type": "stream",
     "text": [
      "16/16 [==============================] - 0s 474us/step\n"
     ]
    }
   ],
   "source": [
    "ps = model.predict(X, verbose=1)"
   ]
  },
  {
   "cell_type": "code",
   "execution_count": 106,
   "metadata": {},
   "outputs": [
    {
     "data": {
      "text/plain": [
       "numpy.ndarray"
      ]
     },
     "execution_count": 106,
     "metadata": {},
     "output_type": "execute_result"
    }
   ],
   "source": [
    "type(ps)"
   ]
  },
  {
   "cell_type": "code",
   "execution_count": 107,
   "metadata": {},
   "outputs": [],
   "source": [
    "# save to csv file\n",
    "savetxt('ps.csv', ps, delimiter=',')\n",
    "#test"
   ]
  },
  {
   "cell_type": "code",
   "execution_count": null,
   "metadata": {},
   "outputs": [],
   "source": []
  }
 ],
 "metadata": {
  "kernelspec": {
   "display_name": "dnn_p",
   "language": "python",
   "name": "dnn_p"
  },
  "language_info": {
   "codemirror_mode": {
    "name": "ipython",
    "version": 3
   },
   "file_extension": ".py",
   "mimetype": "text/x-python",
   "name": "python",
   "nbconvert_exporter": "python",
   "pygments_lexer": "ipython3",
   "version": "3.8.5"
  }
 },
 "nbformat": 4,
 "nbformat_minor": 4
}
