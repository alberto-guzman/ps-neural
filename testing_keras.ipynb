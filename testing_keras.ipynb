{
 "cells": [
  {
   "cell_type": "markdown",
   "metadata": {},
   "source": [
    "Make sure you import dnn_p kernal"
   ]
  },
  {
   "cell_type": "code",
   "execution_count": 76,
   "metadata": {},
   "outputs": [],
   "source": [
    "# import relevant packages\n",
    "import pandas as pd \n",
    "from keras.models import Sequential\n",
    "from keras.layers import Dense\n",
    "from keras.wrappers.scikit_learn import KerasClassifier\n",
    "from sklearn.model_selection import cross_val_score\n",
    "from sklearn.preprocessing import LabelEncoder\n",
    "from sklearn.model_selection import StratifiedKFold\n",
    "from sklearn.preprocessing import StandardScaler\n",
    "from sklearn.pipeline import Pipeline\n",
    "from sklearn.model_selection import train_test_split\n",
    "from numpy import asarray\n",
    "from numpy import savetxt\n",
    "# make sure conda env is active \"dnn_p\""
   ]
  },
  {
   "cell_type": "code",
   "execution_count": 77,
   "metadata": {},
   "outputs": [],
   "source": [
    "dataset = pd.read_csv('data_for_keras.csv')"
   ]
  },
  {
   "cell_type": "code",
   "execution_count": 78,
   "metadata": {},
   "outputs": [
    {
     "data": {
      "text/html": [
       "<div>\n",
       "<style scoped>\n",
       "    .dataframe tbody tr th:only-of-type {\n",
       "        vertical-align: middle;\n",
       "    }\n",
       "\n",
       "    .dataframe tbody tr th {\n",
       "        vertical-align: top;\n",
       "    }\n",
       "\n",
       "    .dataframe thead th {\n",
       "        text-align: right;\n",
       "    }\n",
       "</style>\n",
       "<table border=\"1\" class=\"dataframe\">\n",
       "  <thead>\n",
       "    <tr style=\"text-align: right;\">\n",
       "      <th></th>\n",
       "      <th>V1</th>\n",
       "      <th>V2</th>\n",
       "      <th>V3</th>\n",
       "      <th>V4</th>\n",
       "      <th>V5</th>\n",
       "      <th>V6</th>\n",
       "      <th>V7</th>\n",
       "      <th>V8</th>\n",
       "      <th>V9</th>\n",
       "      <th>V10</th>\n",
       "      <th>T</th>\n",
       "      <th>Y</th>\n",
       "      <th>indeff</th>\n",
       "    </tr>\n",
       "  </thead>\n",
       "  <tbody>\n",
       "    <tr>\n",
       "      <th>0</th>\n",
       "      <td>1</td>\n",
       "      <td>4</td>\n",
       "      <td>1</td>\n",
       "      <td>1</td>\n",
       "      <td>2</td>\n",
       "      <td>3.905871</td>\n",
       "      <td>5.366169</td>\n",
       "      <td>11.169097</td>\n",
       "      <td>2.608725</td>\n",
       "      <td>8.531244</td>\n",
       "      <td>0</td>\n",
       "      <td>3.732524</td>\n",
       "      <td>-0.4</td>\n",
       "    </tr>\n",
       "    <tr>\n",
       "      <th>1</th>\n",
       "      <td>0</td>\n",
       "      <td>2</td>\n",
       "      <td>0</td>\n",
       "      <td>1</td>\n",
       "      <td>0</td>\n",
       "      <td>3.386089</td>\n",
       "      <td>5.789691</td>\n",
       "      <td>12.005449</td>\n",
       "      <td>2.472912</td>\n",
       "      <td>9.274342</td>\n",
       "      <td>1</td>\n",
       "      <td>5.295344</td>\n",
       "      <td>-0.4</td>\n",
       "    </tr>\n",
       "    <tr>\n",
       "      <th>2</th>\n",
       "      <td>1</td>\n",
       "      <td>4</td>\n",
       "      <td>1</td>\n",
       "      <td>0</td>\n",
       "      <td>3</td>\n",
       "      <td>3.806550</td>\n",
       "      <td>4.381729</td>\n",
       "      <td>11.992399</td>\n",
       "      <td>3.303718</td>\n",
       "      <td>7.838459</td>\n",
       "      <td>0</td>\n",
       "      <td>4.204896</td>\n",
       "      <td>-0.4</td>\n",
       "    </tr>\n",
       "    <tr>\n",
       "      <th>3</th>\n",
       "      <td>1</td>\n",
       "      <td>3</td>\n",
       "      <td>1</td>\n",
       "      <td>0</td>\n",
       "      <td>0</td>\n",
       "      <td>1.419517</td>\n",
       "      <td>2.474482</td>\n",
       "      <td>11.914189</td>\n",
       "      <td>1.910837</td>\n",
       "      <td>8.392832</td>\n",
       "      <td>0</td>\n",
       "      <td>4.918152</td>\n",
       "      <td>-0.4</td>\n",
       "    </tr>\n",
       "    <tr>\n",
       "      <th>4</th>\n",
       "      <td>1</td>\n",
       "      <td>9</td>\n",
       "      <td>1</td>\n",
       "      <td>2</td>\n",
       "      <td>3</td>\n",
       "      <td>4.180416</td>\n",
       "      <td>3.888405</td>\n",
       "      <td>12.381729</td>\n",
       "      <td>3.812575</td>\n",
       "      <td>6.963295</td>\n",
       "      <td>0</td>\n",
       "      <td>1.957095</td>\n",
       "      <td>-0.4</td>\n",
       "    </tr>\n",
       "  </tbody>\n",
       "</table>\n",
       "</div>"
      ],
      "text/plain": [
       "   V1  V2  V3  V4  V5        V6        V7         V8        V9       V10  T  \\\n",
       "0   1   4   1   1   2  3.905871  5.366169  11.169097  2.608725  8.531244  0   \n",
       "1   0   2   0   1   0  3.386089  5.789691  12.005449  2.472912  9.274342  1   \n",
       "2   1   4   1   0   3  3.806550  4.381729  11.992399  3.303718  7.838459  0   \n",
       "3   1   3   1   0   0  1.419517  2.474482  11.914189  1.910837  8.392832  0   \n",
       "4   1   9   1   2   3  4.180416  3.888405  12.381729  3.812575  6.963295  0   \n",
       "\n",
       "          Y  indeff  \n",
       "0  3.732524    -0.4  \n",
       "1  5.295344    -0.4  \n",
       "2  4.204896    -0.4  \n",
       "3  4.918152    -0.4  \n",
       "4  1.957095    -0.4  "
      ]
     },
     "execution_count": 78,
     "metadata": {},
     "output_type": "execute_result"
    }
   ],
   "source": [
    "dataset.head()"
   ]
  },
  {
   "cell_type": "code",
   "execution_count": 79,
   "metadata": {},
   "outputs": [],
   "source": [
    "df = dataset.to_numpy()"
   ]
  },
  {
   "cell_type": "code",
   "execution_count": 80,
   "metadata": {},
   "outputs": [
    {
     "name": "stdout",
     "output_type": "stream",
     "text": [
      "(500, 13)\n"
     ]
    }
   ],
   "source": [
    "print(df.shape)"
   ]
  },
  {
   "cell_type": "code",
   "execution_count": 81,
   "metadata": {},
   "outputs": [
    {
     "name": "stdout",
     "output_type": "stream",
     "text": [
      "(500, 10)\n"
     ]
    }
   ],
   "source": [
    "# split into input and output\n",
    "X = df[:,0:10]\n",
    "y = df[:,10]\n",
    "print(x.shape)"
   ]
  },
  {
   "cell_type": "code",
   "execution_count": 82,
   "metadata": {},
   "outputs": [],
   "source": [
    "X_train, X_test, y_train, y_test = train_test_split(X, y, test_size=0.3, random_state=0)"
   ]
  },
  {
   "cell_type": "code",
   "execution_count": 83,
   "metadata": {},
   "outputs": [],
   "source": [
    "# define the keras model\n",
    "model = Sequential()\n",
    "model.add(Dense(20, input_dim=10, activation='relu'))\n",
    "model.add(Dense(20, activation='relu'))\n",
    "model.add(Dense(1, activation='sigmoid'))"
   ]
  },
  {
   "cell_type": "code",
   "execution_count": 84,
   "metadata": {},
   "outputs": [],
   "source": [
    "# compile the keras model\n",
    "model.compile(loss='binary_crossentropy', \n",
    "              optimizer='adam', \n",
    "              metrics=['accuracy'])"
   ]
  },
  {
   "cell_type": "code",
   "execution_count": 85,
   "metadata": {},
   "outputs": [
    {
     "name": "stdout",
     "output_type": "stream",
     "text": [
      "Epoch 1/50\n",
      "350/350 [==============================] - 0s 567us/step - loss: 0.5896 - accuracy: 0.6829\n",
      "Epoch 2/50\n",
      "350/350 [==============================] - 0s 498us/step - loss: 0.5731 - accuracy: 0.6800\n",
      "Epoch 3/50\n",
      "350/350 [==============================] - 0s 587us/step - loss: 0.5512 - accuracy: 0.7143\n",
      "Epoch 4/50\n",
      "350/350 [==============================] - 0s 553us/step - loss: 0.5369 - accuracy: 0.7200\n",
      "Epoch 5/50\n",
      "350/350 [==============================] - 0s 518us/step - loss: 0.5384 - accuracy: 0.7514\n",
      "Epoch 6/50\n",
      "350/350 [==============================] - 0s 659us/step - loss: 0.5304 - accuracy: 0.7429\n",
      "Epoch 7/50\n",
      "350/350 [==============================] - 0s 553us/step - loss: 0.5216 - accuracy: 0.7543\n",
      "Epoch 8/50\n",
      "350/350 [==============================] - 0s 515us/step - loss: 0.5122 - accuracy: 0.7514\n",
      "Epoch 9/50\n",
      "350/350 [==============================] - 0s 562us/step - loss: 0.4981 - accuracy: 0.7543\n",
      "Epoch 10/50\n",
      "350/350 [==============================] - 0s 590us/step - loss: 0.5044 - accuracy: 0.7514\n",
      "Epoch 11/50\n",
      "350/350 [==============================] - 0s 520us/step - loss: 0.5002 - accuracy: 0.7600\n",
      "Epoch 12/50\n",
      "350/350 [==============================] - 0s 516us/step - loss: 0.4895 - accuracy: 0.7714\n",
      "Epoch 13/50\n",
      "350/350 [==============================] - 0s 586us/step - loss: 0.4886 - accuracy: 0.7686\n",
      "Epoch 14/50\n",
      "350/350 [==============================] - 0s 612us/step - loss: 0.4890 - accuracy: 0.7543\n",
      "Epoch 15/50\n",
      "350/350 [==============================] - 0s 528us/step - loss: 0.4945 - accuracy: 0.7629\n",
      "Epoch 16/50\n",
      "350/350 [==============================] - 0s 544us/step - loss: 0.4871 - accuracy: 0.7829\n",
      "Epoch 17/50\n",
      "350/350 [==============================] - 0s 510us/step - loss: 0.4818 - accuracy: 0.7857\n",
      "Epoch 18/50\n",
      "350/350 [==============================] - 0s 496us/step - loss: 0.4883 - accuracy: 0.7600\n",
      "Epoch 19/50\n",
      "350/350 [==============================] - 0s 670us/step - loss: 0.4826 - accuracy: 0.7886\n",
      "Epoch 20/50\n",
      "350/350 [==============================] - 0s 523us/step - loss: 0.4859 - accuracy: 0.7714\n",
      "Epoch 21/50\n",
      "350/350 [==============================] - 0s 473us/step - loss: 0.4778 - accuracy: 0.7714\n",
      "Epoch 22/50\n",
      "350/350 [==============================] - 0s 486us/step - loss: 0.4751 - accuracy: 0.7743\n",
      "Epoch 23/50\n",
      "350/350 [==============================] - 0s 560us/step - loss: 0.4765 - accuracy: 0.7857\n",
      "Epoch 24/50\n",
      "350/350 [==============================] - 0s 535us/step - loss: 0.4713 - accuracy: 0.7914\n",
      "Epoch 25/50\n",
      "350/350 [==============================] - 0s 483us/step - loss: 0.4703 - accuracy: 0.7971\n",
      "Epoch 26/50\n",
      "350/350 [==============================] - 0s 486us/step - loss: 0.4717 - accuracy: 0.7829\n",
      "Epoch 27/50\n",
      "350/350 [==============================] - 0s 523us/step - loss: 0.4731 - accuracy: 0.7771\n",
      "Epoch 28/50\n",
      "350/350 [==============================] - 0s 467us/step - loss: 0.4636 - accuracy: 0.7657\n",
      "Epoch 29/50\n",
      "350/350 [==============================] - 0s 516us/step - loss: 0.4683 - accuracy: 0.7686\n",
      "Epoch 30/50\n",
      "350/350 [==============================] - 0s 502us/step - loss: 0.4608 - accuracy: 0.7857\n",
      "Epoch 31/50\n",
      "350/350 [==============================] - 0s 465us/step - loss: 0.4604 - accuracy: 0.7943\n",
      "Epoch 32/50\n",
      "350/350 [==============================] - 0s 487us/step - loss: 0.4690 - accuracy: 0.7829\n",
      "Epoch 33/50\n",
      "350/350 [==============================] - 0s 508us/step - loss: 0.4480 - accuracy: 0.7743\n",
      "Epoch 34/50\n",
      "350/350 [==============================] - 0s 602us/step - loss: 0.4545 - accuracy: 0.8000\n",
      "Epoch 35/50\n",
      "350/350 [==============================] - 0s 533us/step - loss: 0.4556 - accuracy: 0.7800\n",
      "Epoch 36/50\n",
      "350/350 [==============================] - 0s 490us/step - loss: 0.4560 - accuracy: 0.7657\n",
      "Epoch 37/50\n",
      "350/350 [==============================] - 0s 504us/step - loss: 0.4388 - accuracy: 0.7771\n",
      "Epoch 38/50\n",
      "350/350 [==============================] - 0s 473us/step - loss: 0.4465 - accuracy: 0.7800\n",
      "Epoch 39/50\n",
      "350/350 [==============================] - 0s 515us/step - loss: 0.4428 - accuracy: 0.7943\n",
      "Epoch 40/50\n",
      "350/350 [==============================] - 0s 495us/step - loss: 0.4352 - accuracy: 0.7914\n",
      "Epoch 41/50\n",
      "350/350 [==============================] - 0s 499us/step - loss: 0.4368 - accuracy: 0.7857\n",
      "Epoch 42/50\n",
      "350/350 [==============================] - 0s 521us/step - loss: 0.4303 - accuracy: 0.7886\n",
      "Epoch 43/50\n",
      "350/350 [==============================] - 0s 474us/step - loss: 0.4345 - accuracy: 0.8000\n",
      "Epoch 44/50\n",
      "350/350 [==============================] - 0s 494us/step - loss: 0.4286 - accuracy: 0.8000\n",
      "Epoch 45/50\n",
      "350/350 [==============================] - 0s 481us/step - loss: 0.4365 - accuracy: 0.7857\n",
      "Epoch 46/50\n",
      "350/350 [==============================] - 0s 597us/step - loss: 0.4276 - accuracy: 0.7886\n",
      "Epoch 47/50\n",
      "350/350 [==============================] - 0s 533us/step - loss: 0.4366 - accuracy: 0.7800\n",
      "Epoch 48/50\n",
      "350/350 [==============================] - 0s 480us/step - loss: 0.4270 - accuracy: 0.8000\n",
      "Epoch 49/50\n",
      "350/350 [==============================] - 0s 478us/step - loss: 0.4199 - accuracy: 0.8000\n",
      "Epoch 50/50\n",
      "350/350 [==============================] - 0s 483us/step - loss: 0.4260 - accuracy: 0.8029\n"
     ]
    },
    {
     "data": {
      "text/plain": [
       "<tensorflow.python.keras.callbacks.History at 0x7fb347de6880>"
      ]
     },
     "execution_count": 85,
     "metadata": {},
     "output_type": "execute_result"
    }
   ],
   "source": [
    "# fit the keras model on the dataset\n",
    "model.fit(X_train, y_train, epochs=50, batch_size=1)"
   ]
  },
  {
   "cell_type": "code",
   "execution_count": 86,
   "metadata": {},
   "outputs": [
    {
     "name": "stdout",
     "output_type": "stream",
     "text": [
      "5/5 [==============================] - 0s 795us/step - loss: 0.5188 - accuracy: 0.7800\n",
      "Test accuracy: 0.7799999713897705\n"
     ]
    }
   ],
   "source": [
    "# evaluate the keras model\n",
    "test_loss, test_acc = model.evaluate(X_test, y_test)\n",
    "print('Test accuracy:', test_acc)"
   ]
  },
  {
   "cell_type": "code",
   "execution_count": 87,
   "metadata": {},
   "outputs": [
    {
     "name": "stdout",
     "output_type": "stream",
     "text": [
      "16/16 [==============================] - 0s 493us/step\n"
     ]
    }
   ],
   "source": [
    "ps = model.predict(X, verbose=1)"
   ]
  },
  {
   "cell_type": "code",
   "execution_count": 88,
   "metadata": {},
   "outputs": [
    {
     "data": {
      "text/plain": [
       "numpy.ndarray"
      ]
     },
     "execution_count": 88,
     "metadata": {},
     "output_type": "execute_result"
    }
   ],
   "source": [
    "type(ps)"
   ]
  },
  {
   "cell_type": "code",
   "execution_count": 89,
   "metadata": {},
   "outputs": [],
   "source": [
    "# save to csv file\n",
    "savetxt('ps.csv', ps, delimiter=',')\n",
    "#test"
   ]
  },
  {
   "cell_type": "code",
   "execution_count": null,
   "metadata": {},
   "outputs": [],
   "source": []
  }
 ],
 "metadata": {
  "kernelspec": {
   "display_name": "dnn_p",
   "language": "python",
   "name": "dnn_p"
  },
  "language_info": {
   "codemirror_mode": {
    "name": "ipython",
    "version": 3
   },
   "file_extension": ".py",
   "mimetype": "text/x-python",
   "name": "python",
   "nbconvert_exporter": "python",
   "pygments_lexer": "ipython3",
   "version": "3.8.5"
  }
 },
 "nbformat": 4,
 "nbformat_minor": 4
}
