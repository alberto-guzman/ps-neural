{
 "cells": [
  {
   "cell_type": "code",
   "execution_count": 159,
   "metadata": {},
   "outputs": [],
   "source": [
    "#Libraries\n",
    "%matplotlib inline\n",
    "import scipy\n",
    "import numpy as np \n",
    "import pandas as pd\n",
    "import seaborn as sns\n",
    "import statsmodels.api as sm\n",
    "import matplotlib.pyplot as plt\n",
    "from IPython.display import Image\n",
    "import statsmodels.formula.api as smf\n",
    "from sklearn.datasets import load_boston\n",
    "from sklearn.linear_model import LinearRegression\n",
    "from sklearn.model_selection import train_test_split\n",
    "from sklearn.model_selection import cross_val_score\n",
    "from sklearn import datasets\n",
    "from sklearn.model_selection import cross_val_score\n",
    "import numpy as np\n",
    "import pandas as pd\n",
    "from sklearn import datasets \n",
    "from sklearn.metrics import confusion_matrix\n",
    "from sklearn.model_selection import train_test_split \n",
    "from sklearn.datasets import load_breast_cancer\n",
    "from sklearn import svm\n",
    "from sklearn.datasets import load_breast_cancer\n",
    "from sklearn.model_selection import train_test_split\n",
    "from sklearn.preprocessing import MinMaxScaler \n",
    "from sklearn.model_selection import cross_val_score\n",
    "import numpy as np\n",
    "from sklearn.metrics import accuracy_score\n",
    "from sklearn import svm\n",
    "from sklearn import metrics\n",
    "from sklearn import preprocessing\n",
    "from sklearn.datasets import load_iris\n",
    "from sklearn.preprocessing import MinMaxScaler \n",
    "from sklearn.neural_network import MLPClassifier\n",
    "from sklearn import preprocessing\n",
    "from sklearn.metrics import average_precision_score\n",
    "from sklearn.metrics import accuracy_score, f1_score, precision_score, recall_score, classification_report, confusion_matrix\n",
    "from sklearn.model_selection import train_test_split\n",
    "from sklearn.datasets import load_iris\n",
    "from sklearn.tree import DecisionTreeClassifier\n",
    "from sklearn.ensemble import RandomForestClassifier\n",
    "from sklearn.ensemble import AdaBoostClassifier\n",
    "from sklearn.metrics import accuracy_score\n",
    "from sklearn.tree import export_graphviz\n",
    "from sklearn.metrics import accuracy_score\n"
   ]
  },
  {
   "cell_type": "code",
   "execution_count": 160,
   "metadata": {},
   "outputs": [
    {
     "name": "stdout",
     "output_type": "stream",
     "text": [
      "/Users/albertoguzman-alvarez/Desktop\n"
     ]
    },
    {
     "data": {
      "text/html": [
       "<div>\n",
       "<style scoped>\n",
       "    .dataframe tbody tr th:only-of-type {\n",
       "        vertical-align: middle;\n",
       "    }\n",
       "\n",
       "    .dataframe tbody tr th {\n",
       "        vertical-align: top;\n",
       "    }\n",
       "\n",
       "    .dataframe thead th {\n",
       "        text-align: right;\n",
       "    }\n",
       "</style>\n",
       "<table border=\"1\" class=\"dataframe\">\n",
       "  <thead>\n",
       "    <tr style=\"text-align: right;\">\n",
       "      <th></th>\n",
       "      <th>w1</th>\n",
       "      <th>w2</th>\n",
       "      <th>w3</th>\n",
       "      <th>w4</th>\n",
       "      <th>w5</th>\n",
       "      <th>w6</th>\n",
       "      <th>w7</th>\n",
       "      <th>w8</th>\n",
       "      <th>w9</th>\n",
       "      <th>w10</th>\n",
       "      <th>...</th>\n",
       "      <th>e79</th>\n",
       "      <th>e80</th>\n",
       "      <th>e81</th>\n",
       "      <th>e82</th>\n",
       "      <th>e83</th>\n",
       "      <th>e84</th>\n",
       "      <th>e85</th>\n",
       "      <th>e86</th>\n",
       "      <th>e87</th>\n",
       "      <th>tx</th>\n",
       "    </tr>\n",
       "  </thead>\n",
       "  <tbody>\n",
       "    <tr>\n",
       "      <th>0</th>\n",
       "      <td>0.486620</td>\n",
       "      <td>2.147544</td>\n",
       "      <td>-0.384705</td>\n",
       "      <td>0.451995</td>\n",
       "      <td>1.779385</td>\n",
       "      <td>-1.207889</td>\n",
       "      <td>0.037136</td>\n",
       "      <td>-1.860791</td>\n",
       "      <td>1.803833</td>\n",
       "      <td>0.491462</td>\n",
       "      <td>...</td>\n",
       "      <td>-0.285873</td>\n",
       "      <td>-0.020411</td>\n",
       "      <td>0.812544</td>\n",
       "      <td>-0.189842</td>\n",
       "      <td>0.919538</td>\n",
       "      <td>0.385690</td>\n",
       "      <td>-1.396213</td>\n",
       "      <td>-0.272986</td>\n",
       "      <td>2.088779</td>\n",
       "      <td>1</td>\n",
       "    </tr>\n",
       "    <tr>\n",
       "      <th>1</th>\n",
       "      <td>-0.371826</td>\n",
       "      <td>-1.812367</td>\n",
       "      <td>0.051976</td>\n",
       "      <td>0.320403</td>\n",
       "      <td>-1.316911</td>\n",
       "      <td>1.397303</td>\n",
       "      <td>0.816774</td>\n",
       "      <td>0.428433</td>\n",
       "      <td>-1.284779</td>\n",
       "      <td>-0.682675</td>\n",
       "      <td>...</td>\n",
       "      <td>0.737105</td>\n",
       "      <td>1.480262</td>\n",
       "      <td>-0.283019</td>\n",
       "      <td>-0.635094</td>\n",
       "      <td>0.862012</td>\n",
       "      <td>-1.423064</td>\n",
       "      <td>1.291889</td>\n",
       "      <td>0.162759</td>\n",
       "      <td>0.154346</td>\n",
       "      <td>0</td>\n",
       "    </tr>\n",
       "    <tr>\n",
       "      <th>2</th>\n",
       "      <td>-0.181689</td>\n",
       "      <td>0.430559</td>\n",
       "      <td>0.320108</td>\n",
       "      <td>-0.962987</td>\n",
       "      <td>-0.885111</td>\n",
       "      <td>-0.242968</td>\n",
       "      <td>0.832726</td>\n",
       "      <td>2.127300</td>\n",
       "      <td>-1.057843</td>\n",
       "      <td>0.436440</td>\n",
       "      <td>...</td>\n",
       "      <td>0.159269</td>\n",
       "      <td>-0.282644</td>\n",
       "      <td>-0.688833</td>\n",
       "      <td>-0.438679</td>\n",
       "      <td>-0.639551</td>\n",
       "      <td>0.175465</td>\n",
       "      <td>-0.823201</td>\n",
       "      <td>-1.851718</td>\n",
       "      <td>0.016272</td>\n",
       "      <td>0</td>\n",
       "    </tr>\n",
       "    <tr>\n",
       "      <th>3</th>\n",
       "      <td>0.126989</td>\n",
       "      <td>-0.168849</td>\n",
       "      <td>1.847644</td>\n",
       "      <td>-0.261562</td>\n",
       "      <td>1.507895</td>\n",
       "      <td>-1.901950</td>\n",
       "      <td>-0.562905</td>\n",
       "      <td>0.351441</td>\n",
       "      <td>2.128637</td>\n",
       "      <td>2.367332</td>\n",
       "      <td>...</td>\n",
       "      <td>1.957372</td>\n",
       "      <td>-1.171778</td>\n",
       "      <td>-0.913232</td>\n",
       "      <td>-0.336787</td>\n",
       "      <td>-0.932402</td>\n",
       "      <td>-0.045669</td>\n",
       "      <td>0.903884</td>\n",
       "      <td>-1.112730</td>\n",
       "      <td>0.685509</td>\n",
       "      <td>1</td>\n",
       "    </tr>\n",
       "    <tr>\n",
       "      <th>4</th>\n",
       "      <td>-1.887808</td>\n",
       "      <td>-0.337465</td>\n",
       "      <td>0.836936</td>\n",
       "      <td>1.302992</td>\n",
       "      <td>-1.218020</td>\n",
       "      <td>1.986487</td>\n",
       "      <td>0.511492</td>\n",
       "      <td>-0.708586</td>\n",
       "      <td>-0.641672</td>\n",
       "      <td>-0.857538</td>\n",
       "      <td>...</td>\n",
       "      <td>-0.056923</td>\n",
       "      <td>0.580928</td>\n",
       "      <td>-0.265717</td>\n",
       "      <td>-0.427820</td>\n",
       "      <td>-0.140425</td>\n",
       "      <td>0.214418</td>\n",
       "      <td>2.533773</td>\n",
       "      <td>0.360371</td>\n",
       "      <td>0.636730</td>\n",
       "      <td>1</td>\n",
       "    </tr>\n",
       "  </tbody>\n",
       "</table>\n",
       "<p>5 rows × 101 columns</p>\n",
       "</div>"
      ],
      "text/plain": [
       "         w1        w2        w3        w4        w5        w6        w7  \\\n",
       "0  0.486620  2.147544 -0.384705  0.451995  1.779385 -1.207889  0.037136   \n",
       "1 -0.371826 -1.812367  0.051976  0.320403 -1.316911  1.397303  0.816774   \n",
       "2 -0.181689  0.430559  0.320108 -0.962987 -0.885111 -0.242968  0.832726   \n",
       "3  0.126989 -0.168849  1.847644 -0.261562  1.507895 -1.901950 -0.562905   \n",
       "4 -1.887808 -0.337465  0.836936  1.302992 -1.218020  1.986487  0.511492   \n",
       "\n",
       "         w8        w9       w10  ...       e79       e80       e81       e82  \\\n",
       "0 -1.860791  1.803833  0.491462  ... -0.285873 -0.020411  0.812544 -0.189842   \n",
       "1  0.428433 -1.284779 -0.682675  ...  0.737105  1.480262 -0.283019 -0.635094   \n",
       "2  2.127300 -1.057843  0.436440  ...  0.159269 -0.282644 -0.688833 -0.438679   \n",
       "3  0.351441  2.128637  2.367332  ...  1.957372 -1.171778 -0.913232 -0.336787   \n",
       "4 -0.708586 -0.641672 -0.857538  ... -0.056923  0.580928 -0.265717 -0.427820   \n",
       "\n",
       "        e83       e84       e85       e86       e87  tx  \n",
       "0  0.919538  0.385690 -1.396213 -0.272986  2.088779   1  \n",
       "1  0.862012 -1.423064  1.291889  0.162759  0.154346   0  \n",
       "2 -0.639551  0.175465 -0.823201 -1.851718  0.016272   0  \n",
       "3 -0.932402 -0.045669  0.903884 -1.112730  0.685509   1  \n",
       "4 -0.140425  0.214418  2.533773  0.360371  0.636730   1  \n",
       "\n",
       "[5 rows x 101 columns]"
      ]
     },
     "execution_count": 160,
     "metadata": {},
     "output_type": "execute_result"
    }
   ],
   "source": [
    "#setting working directory\n",
    "%cd \"~/Desktop/\"\n",
    "\n",
    "#bringing in master file for 20140-15\n",
    "df = pd.read_csv('n_10000_High_No.csv',error_bad_lines=False)\n",
    "df.head()\n",
    "\n",
    "\n",
    "\n"
   ]
  },
  {
   "cell_type": "code",
   "execution_count": 161,
   "metadata": {},
   "outputs": [
    {
     "data": {
      "text/plain": [
       "100"
      ]
     },
     "execution_count": 161,
     "metadata": {},
     "output_type": "execute_result"
    }
   ],
   "source": [
    "df.columns.get_loc(\"tx\")"
   ]
  },
  {
   "cell_type": "code",
   "execution_count": 162,
   "metadata": {},
   "outputs": [],
   "source": [
    "#saving arrays to run models\n",
    "array = df.values\n",
    "\n",
    "X_features=array[:,0:99]\n",
    "Y_targetClass=df['tx']\n",
    "\n",
    "#print(X_features)\n",
    "#print(Y_targetClass)\n",
    "\n"
   ]
  },
  {
   "cell_type": "code",
   "execution_count": 163,
   "metadata": {},
   "outputs": [
    {
     "data": {
      "text/plain": [
       "(10000, 99)"
      ]
     },
     "execution_count": 163,
     "metadata": {},
     "output_type": "execute_result"
    }
   ],
   "source": [
    "X_features.shape"
   ]
  },
  {
   "cell_type": "code",
   "execution_count": 164,
   "metadata": {},
   "outputs": [],
   "source": [
    "X_trainval, X_test, Y_trainval, Y_test= train_test_split(X_features, Y_targetClass, random_state= 0)\n"
   ]
  },
  {
   "cell_type": "code",
   "execution_count": 165,
   "metadata": {},
   "outputs": [],
   "source": [
    "#applying standard scaler\n",
    "from sklearn import preprocessing\n",
    "\n",
    "\n",
    "scaler=preprocessing.StandardScaler().fit(X_trainval)\n",
    "X_trainval_transformed=scaler.transform(X_trainval)\n",
    "X_test_transformed1=scaler.transform(X_test)"
   ]
  },
  {
   "cell_type": "code",
   "execution_count": 168,
   "metadata": {},
   "outputs": [
    {
     "name": "stdout",
     "output_type": "stream",
     "text": [
      "Accuracy is 0.6988\n",
      "Confusion Matrix [[ 540  453]\n",
      " [ 300 1207]]\n",
      "Average precision: 0.70\n",
      "Recall Score: 0.80092899800929\n"
     ]
    }
   ],
   "source": [
    "#finally trying neural networks\n",
    "from sklearn.neural_network import MLPClassifier\n",
    "\n",
    "\n",
    "\n",
    "\n",
    "#fit a model\n",
    "MLPmodel = MLPClassifier(hidden_layer_sizes=(10, 10, 10), max_iter=1500)\n",
    "MLPmodel.fit(X_trainval_transformed,Y_trainval)\n",
    "\n",
    "\n",
    "#getting accuracy score\n",
    "y_pred = MLPmodel.predict(X_test_transformed1)\n",
    "y_pred\n",
    "\n",
    "\n",
    "\n",
    "\n",
    "#Predict the response for test dataset\n",
    "y_pred = MLPmodel.predict(X_test_transformed1)\n",
    "\n",
    "print (\"Accuracy is\", accuracy_score(Y_test,y_pred))\n",
    "\n",
    "cnf_matrix = confusion_matrix(Y_test, y_pred)\n",
    "print(\"Confusion Matrix\",cnf_matrix)\n",
    "\n",
    "average_precision = average_precision_score(Y_test, y_pred)\n",
    "\n",
    "print('Average precision: {0:0.2f}'.format(\n",
    "      average_precision))\n",
    "\n",
    "print('Recall Score:',recall_score(Y_test, y_pred))\n"
   ]
  },
  {
   "cell_type": "code",
   "execution_count": 169,
   "metadata": {},
   "outputs": [
    {
     "name": "stdout",
     "output_type": "stream",
     "text": [
      "Accuracy is 0.7652\n",
      "Confusion Matrix [[ 628  365]\n",
      " [ 222 1285]]\n",
      "Average precision: 0.75\n",
      "Recall Score: 0.8526874585268746\n"
     ]
    },
    {
     "name": "stderr",
     "output_type": "stream",
     "text": [
      "/anaconda3/lib/python3.7/site-packages/sklearn/linear_model/logistic.py:433: FutureWarning: Default solver will be changed to 'lbfgs' in 0.22. Specify a solver to silence this warning.\n",
      "  FutureWarning)\n"
     ]
    }
   ],
   "source": [
    "from sklearn.linear_model import LogisticRegression\n",
    "from sklearn import metrics\n",
    "\n",
    "logreg = LogisticRegression()\n",
    "logreg.fit(X_trainval_transformed, Y_trainval)\n",
    "\n",
    "#Predict the response for test dataset\n",
    "y_pred = logreg.predict(X_test_transformed1)\n",
    "\n",
    "print (\"Accuracy is\", accuracy_score(Y_test,y_pred))\n",
    "\n",
    "cnf_matrix = confusion_matrix(Y_test, y_pred)\n",
    "print(\"Confusion Matrix\",cnf_matrix)\n",
    "\n",
    "average_precision = average_precision_score(Y_test, y_pred)\n",
    "\n",
    "print('Average precision: {0:0.2f}'.format(\n",
    "      average_precision))\n",
    "\n",
    "print('Recall Score:',recall_score(Y_test, y_pred))"
   ]
  },
  {
   "cell_type": "code",
   "execution_count": null,
   "metadata": {},
   "outputs": [],
   "source": []
  },
  {
   "cell_type": "code",
   "execution_count": null,
   "metadata": {},
   "outputs": [],
   "source": []
  },
  {
   "cell_type": "code",
   "execution_count": null,
   "metadata": {},
   "outputs": [],
   "source": []
  }
 ],
 "metadata": {
  "kernelspec": {
   "display_name": "Python 3",
   "language": "python",
   "name": "python3"
  },
  "language_info": {
   "codemirror_mode": {
    "name": "ipython",
    "version": 3
   },
   "file_extension": ".py",
   "mimetype": "text/x-python",
   "name": "python",
   "nbconvert_exporter": "python",
   "pygments_lexer": "ipython3",
   "version": "3.7.3"
  }
 },
 "nbformat": 4,
 "nbformat_minor": 2
}
